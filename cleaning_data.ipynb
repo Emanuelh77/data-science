{
 "cells": [
  {
   "cell_type": "markdown",
   "metadata": {},
   "source": [
    "# Data Cleaning"
   ]
  },
  {
   "cell_type": "code",
   "execution_count": 51,
   "metadata": {
    "scrolled": true
   },
   "outputs": [
    {
     "name": "stdout",
     "output_type": "stream",
     "text": [
      "   Unnamed: 0      ID               Name  Age  \\\n",
      "0           0  158023           L. Messi   31   \n",
      "1           1   20801  Cristiano Ronaldo   33   \n",
      "2           2  190871          Neymar Jr   26   \n",
      "3           3  193080             De Gea   27   \n",
      "4           4  192985       K. De Bruyne   27   \n",
      "\n",
      "                                            Photo Nationality  \\\n",
      "0  https://cdn.sofifa.org/players/4/19/158023.png   Argentina   \n",
      "1   https://cdn.sofifa.org/players/4/19/20801.png    Portugal   \n",
      "2  https://cdn.sofifa.org/players/4/19/190871.png      Brazil   \n",
      "3  https://cdn.sofifa.org/players/4/19/193080.png       Spain   \n",
      "4  https://cdn.sofifa.org/players/4/19/192985.png     Belgium   \n",
      "\n",
      "                                  Flag  Overall  Potential  \\\n",
      "0  https://cdn.sofifa.org/flags/52.png       94         94   \n",
      "1  https://cdn.sofifa.org/flags/38.png       94         94   \n",
      "2  https://cdn.sofifa.org/flags/54.png       92         93   \n",
      "3  https://cdn.sofifa.org/flags/45.png       91         93   \n",
      "4   https://cdn.sofifa.org/flags/7.png       91         92   \n",
      "\n",
      "                  Club      ...       Composure Marking StandingTackle  \\\n",
      "0         FC Barcelona      ...            96.0    33.0           28.0   \n",
      "1             Juventus      ...            95.0    28.0           31.0   \n",
      "2  Paris Saint-Germain      ...            94.0    27.0           24.0   \n",
      "3    Manchester United      ...            68.0    15.0           21.0   \n",
      "4      Manchester City      ...            88.0    68.0           58.0   \n",
      "\n",
      "   SlidingTackle GKDiving  GKHandling  GKKicking  GKPositioning GKReflexes  \\\n",
      "0           26.0      6.0        11.0       15.0           14.0        8.0   \n",
      "1           23.0      7.0        11.0       15.0           14.0       11.0   \n",
      "2           33.0      9.0         9.0       15.0           15.0       11.0   \n",
      "3           13.0     90.0        85.0       87.0           88.0       94.0   \n",
      "4           51.0     15.0        13.0        5.0           10.0       13.0   \n",
      "\n",
      "  Release Clause  \n",
      "0        €226.5M  \n",
      "1        €127.1M  \n",
      "2        €228.1M  \n",
      "3        €138.6M  \n",
      "4        €196.4M  \n",
      "\n",
      "[5 rows x 89 columns]\n"
     ]
    }
   ],
   "source": [
    "# Import pandas\n",
    "import pandas as pd\n",
    "# Read the file into a DataFrame: df\n",
    "df = pd.read_csv('fifa19_dataset.csv', low_memory = False)\n",
    "\n",
    "# Print the head of df\n",
    "print(df.head())\n"
   ]
  },
  {
   "cell_type": "code",
   "execution_count": 35,
   "metadata": {
    "scrolled": true
   },
   "outputs": [
    {
     "name": "stdout",
     "output_type": "stream",
     "text": [
      "NaN                          241\n",
      "Burnley                       33\n",
      "Atlético Madrid               33\n",
      "Borussia Dortmund             33\n",
      "Rayo Vallecano                33\n",
      "Eintracht Frankfurt           33\n",
      "TSG 1899 Hoffenheim           33\n",
      "Wolverhampton Wanderers       33\n",
      "Newcastle United              33\n",
      "Real Madrid                   33\n",
      "AS Monaco                     33\n",
      "RC Celta                      33\n",
      "Frosinone                     33\n",
      "Everton                       33\n",
      "FC Barcelona                  33\n",
      "Valencia CF                   33\n",
      "Chelsea                       33\n",
      "Arsenal                       33\n",
      "Tottenham Hotspur             33\n",
      "CD Leganés                    33\n",
      "Liverpool                     33\n",
      "Cardiff City                  33\n",
      "Empoli                        33\n",
      "Manchester City               33\n",
      "Southampton                   33\n",
      "Fortuna Düsseldorf            33\n",
      "Manchester United             33\n",
      "Fulham                        32\n",
      "Huddersfield Town             32\n",
      "Villarreal CF                 32\n",
      "                            ... \n",
      "FC København                  23\n",
      "St. Patrick's Athletic        23\n",
      "Clube Sport Marítimo          23\n",
      "Colorado Rapids               23\n",
      "Kasimpaşa SK                  23\n",
      "Östersunds FK                 22\n",
      "FK Haugesund                  22\n",
      "Shamrock Rovers               22\n",
      "Dalkurd FF                    21\n",
      "Melbourne Victory             21\n",
      "Wellington Phoenix            21\n",
      "Sport Club do Recife          20\n",
      "Atlético Paranaense           20\n",
      "América FC (Minas Gerais)     20\n",
      "Cruzeiro                      20\n",
      "Fluminense                    20\n",
      "Atlético Mineiro              20\n",
      "Ceará Sporting Club           20\n",
      "Tromsø IL                     20\n",
      "Internacional                 20\n",
      "Chapecoense                   20\n",
      "Santos                        20\n",
      "Botafogo                      20\n",
      "Grêmio                        20\n",
      "Bahia                         20\n",
      "Paraná                        20\n",
      "Vitória                       20\n",
      "Limerick FC                   19\n",
      "Sligo Rovers                  19\n",
      "Derry City                    18\n",
      "Name: Club, Length: 652, dtype: int64\n",
      "England                 1662\n",
      "Germany                 1198\n",
      "Spain                   1072\n",
      "Argentina                937\n",
      "France                   914\n",
      "Brazil                   827\n",
      "Italy                    702\n",
      "Colombia                 618\n",
      "Japan                    478\n",
      "Netherlands              453\n",
      "Sweden                   397\n",
      "China PR                 392\n",
      "Chile                    391\n",
      "Republic of Ireland      368\n",
      "Mexico                   366\n",
      "United States            353\n",
      "Poland                   350\n",
      "Norway                   341\n",
      "Saudi Arabia             340\n",
      "Denmark                  336\n",
      "Korea Republic           335\n",
      "Portugal                 322\n",
      "Turkey                   303\n",
      "Austria                  298\n",
      "Scotland                 286\n",
      "Belgium                  260\n",
      "Australia                236\n",
      "Switzerland              220\n",
      "Uruguay                  149\n",
      "Senegal                  130\n",
      "                        ... \n",
      "Dominican Republic         2\n",
      "Nicaragua                  2\n",
      "Eritrea                    2\n",
      "Uzbekistan                 2\n",
      "Philippines                2\n",
      "Bermuda                    2\n",
      "São Tomé & Príncipe        1\n",
      "Rwanda                     1\n",
      "South Sudan                1\n",
      "Grenada                    1\n",
      "Belize                     1\n",
      "Andorra                    1\n",
      "Ethiopia                   1\n",
      "Fiji                       1\n",
      "Puerto Rico                1\n",
      "Botswana                   1\n",
      "Jordan                     1\n",
      "Guam                       1\n",
      "St Lucia                   1\n",
      "Kuwait                     1\n",
      "Oman                       1\n",
      "Palestine                  1\n",
      "Lebanon                    1\n",
      "United Arab Emirates       1\n",
      "Indonesia                  1\n",
      "Malta                      1\n",
      "Mauritius                  1\n",
      "New Caledonia              1\n",
      "Qatar                      1\n",
      "Liberia                    1\n",
      "Name: Nationality, Length: 164, dtype: int64\n",
      "21    1423\n",
      "26    1387\n",
      "24    1358\n",
      "22    1340\n",
      "23    1332\n",
      "25    1319\n",
      "20    1240\n",
      "27    1162\n",
      "28    1101\n",
      "19    1024\n",
      "29     959\n",
      "30     917\n",
      "18     732\n",
      "31     707\n",
      "32     574\n",
      "33     408\n",
      "34     404\n",
      "17     289\n",
      "35     196\n",
      "36     127\n",
      "37      82\n",
      "16      42\n",
      "38      37\n",
      "39      25\n",
      "40      13\n",
      "41       5\n",
      "44       2\n",
      "42       1\n",
      "45       1\n",
      "Name: Age, dtype: int64\n"
     ]
    }
   ],
   "source": [
    "print(df['Club'].value_counts(dropna=False))\n",
    "\n",
    "print(df['Nationality'].value_counts(dropna=False))\n",
    "\n",
    "print(df['Age'].value_counts(dropna=False))"
   ]
  },
  {
   "cell_type": "markdown",
   "metadata": {},
   "source": [
    "## Incredible! there are 22 players in Fifa19 that are 40 years old or more"
   ]
  },
  {
   "cell_type": "code",
   "execution_count": 45,
   "metadata": {
    "scrolled": true
   },
   "outputs": [
    {
     "data": {
      "image/png": "[encoded data removed]",
      "text/plain": [
       "<Figure size 432x288 with 1 Axes>"
      ]
     },
     "metadata": {
      "needs_background": "light"
     },
     "output_type": "display_data"
    }
   ],
   "source": [
    "import matplotlib.pyplot as plt\n",
    "\n",
    "# Describe the column\n",
    "df['Club'].describe()\n",
    "\n",
    "# Plot the histogram\n",
    "df['Age'].plot(kind='hist', logx=False, logy=True)\n",
    "\n",
    "# Display the histogram\n",
    "plt.show();"
   ]
  },
  {
   "cell_type": "markdown",
   "metadata": {},
   "source": [
    "## TIDY DATA!!"
   ]
  },
  {
   "cell_type": "markdown",
   "metadata": {},
   "source": [
    "* Columns represent separate variables\n",
    "* Rows represent individual observations\n",
    "* Observational units form tables"
   ]
  },
  {
   "cell_type": "code",
   "execution_count": 1,
   "metadata": {},
   "outputs": [
    {
     "data": {
      "text/html": [
       "<div>\n",
       "<style scoped>\n",
       "    .dataframe tbody tr th:only-of-type {\n",
       "        vertical-align: middle;\n",
       "    }\n",
       "\n",
       "    .dataframe tbody tr th {\n",
       "        vertical-align: top;\n",
       "    }\n",
       "\n",
       "    .dataframe thead th {\n",
       "        text-align: right;\n",
       "    }\n",
       "</style>\n",
       "<table border=\"1\" class=\"dataframe\">\n",
       "  <thead>\n",
       "    <tr style=\"text-align: right;\">\n",
       "      <th></th>\n",
       "      <th>player</th>\n",
       "      <th>category</th>\n",
       "      <th>score</th>\n",
       "    </tr>\n",
       "  </thead>\n",
       "  <tbody>\n",
       "    <tr>\n",
       "      <th>0</th>\n",
       "      <td>Messi</td>\n",
       "      <td>Shooting</td>\n",
       "      <td>95</td>\n",
       "    </tr>\n",
       "    <tr>\n",
       "      <th>1</th>\n",
       "      <td>Aguero</td>\n",
       "      <td>Shooting</td>\n",
       "      <td>85</td>\n",
       "    </tr>\n",
       "    <tr>\n",
       "      <th>2</th>\n",
       "      <td>James</td>\n",
       "      <td>Shooting</td>\n",
       "      <td>88</td>\n",
       "    </tr>\n",
       "    <tr>\n",
       "      <th>3</th>\n",
       "      <td>Lewandowski</td>\n",
       "      <td>Shooting</td>\n",
       "      <td>92</td>\n",
       "    </tr>\n",
       "  </tbody>\n",
       "</table>\n",
       "</div>"
      ],
      "text/plain": [
       "        player  category  score\n",
       "0        Messi  Shooting     95\n",
       "1       Aguero  Shooting     85\n",
       "2        James  Shooting     88\n",
       "3  Lewandowski  Shooting     92"
      ]
     },
     "execution_count": 1,
     "metadata": {},
     "output_type": "execute_result"
    }
   ],
   "source": [
    "import pandas as pd\n",
    "names = ['Messi','Aguero','James','Lewandowski']\n",
    "category = ['Shooting']*4\n",
    "score = [95,85,88,92]\n",
    "dict = {'player':names, 'category':category, 'score':score}\n",
    "ratings = pd.DataFrame(dict)\n",
    "ratings.head()"
   ]
  },
  {
   "cell_type": "markdown",
   "metadata": {},
   "source": [
    "#### How to turn columns into rows of data?\n",
    "* pd.melt()\n",
    "\n",
    "#### How to do the opposite?\n",
    "* pd.pivot()  \n",
    "be aware though, pivot() will throw an error if there are duplicates, for safer use, try pivot_table()"
   ]
  },
  {
   "cell_type": "code",
   "execution_count": 38,
   "metadata": {},
   "outputs": [
    {
     "data": {
      "text/html": [
       "<div>\n",
       "<style scoped>\n",
       "    .dataframe tbody tr th:only-of-type {\n",
       "        vertical-align: middle;\n",
       "    }\n",
       "\n",
       "    .dataframe tbody tr th {\n",
       "        vertical-align: top;\n",
       "    }\n",
       "\n",
       "    .dataframe thead th {\n",
       "        text-align: right;\n",
       "    }\n",
       "</style>\n",
       "<table border=\"1\" class=\"dataframe\">\n",
       "  <thead>\n",
       "    <tr style=\"text-align: right;\">\n",
       "      <th></th>\n",
       "      <th>name</th>\n",
       "      <th>experience_a</th>\n",
       "      <th>experience_b</th>\n",
       "    </tr>\n",
       "  </thead>\n",
       "  <tbody>\n",
       "    <tr>\n",
       "      <th>0</th>\n",
       "      <td>Leo</td>\n",
       "      <td>9</td>\n",
       "      <td>4</td>\n",
       "    </tr>\n",
       "    <tr>\n",
       "      <th>1</th>\n",
       "      <td>Bruce</td>\n",
       "      <td>10</td>\n",
       "      <td>3</td>\n",
       "    </tr>\n",
       "    <tr>\n",
       "      <th>2</th>\n",
       "      <td>Jacob</td>\n",
       "      <td>5</td>\n",
       "      <td>6</td>\n",
       "    </tr>\n",
       "  </tbody>\n",
       "</table>\n",
       "</div>"
      ],
      "text/plain": [
       "    name  experience_a  experience_b\n",
       "0    Leo             9             4\n",
       "1  Bruce            10             3\n",
       "2  Jacob             5             6"
      ]
     },
     "execution_count": 38,
     "metadata": {},
     "output_type": "execute_result"
    }
   ],
   "source": [
    "new_names = ['Leo','Bruce','Jacob']\n",
    "experience_a = [9,10,5]\n",
    "experience_b = [4,3,6]\n",
    "table = {'name':new_names, 'experience_a':experience_a, 'experience_b':experience_b}\n",
    "experiences = pd.DataFrame(table)\n",
    "experiences.head()"
   ]
  },
  {
   "cell_type": "markdown",
   "metadata": {},
   "source": [
    "In the next snipped of code I am going to melt the columns experience_a & experience_b"
   ]
  },
  {
   "cell_type": "code",
   "execution_count": 40,
   "metadata": {},
   "outputs": [
    {
     "data": {
      "text/html": [
       "<div>\n",
       "<style scoped>\n",
       "    .dataframe tbody tr th:only-of-type {\n",
       "        vertical-align: middle;\n",
       "    }\n",
       "\n",
       "    .dataframe tbody tr th {\n",
       "        vertical-align: top;\n",
       "    }\n",
       "\n",
       "    .dataframe thead th {\n",
       "        text-align: right;\n",
       "    }\n",
       "</style>\n",
       "<table border=\"1\" class=\"dataframe\">\n",
       "  <thead>\n",
       "    <tr style=\"text-align: right;\">\n",
       "      <th></th>\n",
       "      <th>name</th>\n",
       "      <th>variable</th>\n",
       "      <th>value</th>\n",
       "    </tr>\n",
       "  </thead>\n",
       "  <tbody>\n",
       "    <tr>\n",
       "      <th>0</th>\n",
       "      <td>Leo</td>\n",
       "      <td>experience_a</td>\n",
       "      <td>9</td>\n",
       "    </tr>\n",
       "    <tr>\n",
       "      <th>1</th>\n",
       "      <td>Bruce</td>\n",
       "      <td>experience_a</td>\n",
       "      <td>10</td>\n",
       "    </tr>\n",
       "    <tr>\n",
       "      <th>2</th>\n",
       "      <td>Jacob</td>\n",
       "      <td>experience_a</td>\n",
       "      <td>5</td>\n",
       "    </tr>\n",
       "    <tr>\n",
       "      <th>3</th>\n",
       "      <td>Leo</td>\n",
       "      <td>experience_b</td>\n",
       "      <td>4</td>\n",
       "    </tr>\n",
       "    <tr>\n",
       "      <th>4</th>\n",
       "      <td>Bruce</td>\n",
       "      <td>experience_b</td>\n",
       "      <td>3</td>\n",
       "    </tr>\n",
       "    <tr>\n",
       "      <th>5</th>\n",
       "      <td>Jacob</td>\n",
       "      <td>experience_b</td>\n",
       "      <td>6</td>\n",
       "    </tr>\n",
       "  </tbody>\n",
       "</table>\n",
       "</div>"
      ],
      "text/plain": [
       "    name      variable  value\n",
       "0    Leo  experience_a      9\n",
       "1  Bruce  experience_a     10\n",
       "2  Jacob  experience_a      5\n",
       "3    Leo  experience_b      4\n",
       "4  Bruce  experience_b      3\n",
       "5  Jacob  experience_b      6"
      ]
     },
     "execution_count": 40,
     "metadata": {},
     "output_type": "execute_result"
    }
   ],
   "source": [
    "fixed_experiences = pd.melt(experiences, id_vars=['name'])\n",
    "fixed_experiences.head(6)"
   ]
  },
  {
   "cell_type": "markdown",
   "metadata": {},
   "source": [
    "## Concatenating Data"
   ]
  },
  {
   "cell_type": "code",
   "execution_count": 7,
   "metadata": {},
   "outputs": [
    {
     "name": "stdout",
     "output_type": "stream",
     "text": [
      "    player  category  score\n",
      "0  Ronaldo  shooting     95\n",
      "1   Mbappe  shooting     85\n",
      "2   Neymar  shooting     88\n",
      "3   Suarez  shooting     92\n",
      "<class 'pandas.core.frame.DataFrame'>\n"
     ]
    }
   ],
   "source": [
    "import pandas as pd\n",
    "names_two = ['Ronaldo','Mbappe','Neymar','Suarez']\n",
    "category_two = ['shooting']*4\n",
    "scores = [95,85,88,92]\n",
    "dict_two = {'player':names_two, 'category':category_two, 'score':scores}\n",
    "ratings_two = pd.DataFrame(dict_two)\n",
    "print(ratings_two.head())\n",
    "print(type(ratings_two))"
   ]
  },
  {
   "cell_type": "markdown",
   "metadata": {},
   "source": [
    "## Okay! So now I'm going to concatenate the following DataFrames:  \n",
    "- ratings\n",
    "- ratings_two"
   ]
  },
  {
   "cell_type": "code",
   "execution_count": 9,
   "metadata": {},
   "outputs": [
    {
     "name": "stdout",
     "output_type": "stream",
     "text": [
      "        player  category  score\n",
      "0        Messi  Shooting     95\n",
      "1       Aguero  Shooting     85\n",
      "2        James  Shooting     88\n",
      "3  Lewandowski  Shooting     92\n",
      "0      Ronaldo  shooting     95\n",
      "1       Mbappe  shooting     85\n",
      "2       Neymar  shooting     88\n",
      "3       Suarez  shooting     92\n"
     ]
    }
   ],
   "source": [
    "concatenated = pd.concat([ratings, ratings_two])\n",
    "print(concatenated)"
   ]
  },
  {
   "cell_type": "markdown",
   "metadata": {},
   "source": [
    "## But wait! the indexes are all messed up\n",
    "In order to fix this, I will use the 'ignore_index=True' field inside pd.concat()"
   ]
  },
  {
   "cell_type": "code",
   "execution_count": 15,
   "metadata": {},
   "outputs": [
    {
     "name": "stdout",
     "output_type": "stream",
     "text": [
      "        player  category  score\n",
      "0        Messi  Shooting     95\n",
      "1       Aguero  Shooting     85\n",
      "2        James  Shooting     88\n",
      "3  Lewandowski  Shooting     92\n",
      "4      Ronaldo  shooting     95\n",
      "5       Mbappe  shooting     85\n",
      "6       Neymar  shooting     88\n",
      "7       Suarez  shooting     92\n"
     ]
    }
   ],
   "source": [
    "concatenated = pd.concat([ratings, ratings_two], ignore_index=True)\n",
    "print(concatenated)"
   ]
  },
  {
   "cell_type": "markdown",
   "metadata": {},
   "source": [
    "### Much better now!"
   ]
  },
  {
   "cell_type": "markdown",
   "metadata": {},
   "source": [
    "Now, if I want to concatenate a column, for example, a category called 'dribbling' to my DataFrame, all I have to do is the following:"
   ]
  },
  {
   "cell_type": "code",
   "execution_count": 17,
   "metadata": {},
   "outputs": [
    {
     "name": "stdout",
     "output_type": "stream",
     "text": [
      "        player  category  score  dribbling\n",
      "0        Messi  Shooting     95         94\n",
      "1       Aguero  Shooting     85         85\n",
      "2        James  Shooting     88         86\n",
      "3  Lewandowski  Shooting     92         85\n",
      "4      Ronaldo  shooting     95         92\n",
      "5       Mbappe  shooting     85         88\n",
      "6       Neymar  shooting     88         95\n",
      "7       Suarez  shooting     92         87\n"
     ]
    }
   ],
   "source": [
    "dribbling = [94, 85, 86, 85, 92, 88, 95, 87] #create new category\n",
    "d_category = {'dribbling':dribbling}\n",
    "df = pd.DataFrame(d_category)\n",
    "merged_stats = pd.concat([concatenated,df],axis=1)\n",
    "print(merged_stats)"
   ]
  },
  {
   "cell_type": "code",
   "execution_count": 52,
   "metadata": {},
   "outputs": [
    {
     "name": "stdout",
     "output_type": "stream",
     "text": [
      "           score  dribbling\n",
      "count   8.000000   8.000000\n",
      "mean   90.000000  89.000000\n",
      "std     4.070802   4.070802\n",
      "min    85.000000  85.000000\n",
      "25%    87.250000  85.750000\n",
      "50%    90.000000  87.500000\n",
      "75%    92.750000  92.500000\n",
      "max    95.000000  95.000000\n",
      "\n",
      "\n",
      "<class 'pandas.core.frame.DataFrame'>\n",
      "RangeIndex: 8 entries, 0 to 7\n",
      "Data columns (total 4 columns):\n",
      "player       8 non-null object\n",
      "category     8 non-null object\n",
      "score        8 non-null int64\n",
      "dribbling    8 non-null int64\n",
      "dtypes: int64(2), object(2)\n",
      "memory usage: 336.0+ bytes\n",
      "None\n",
      "\n",
      "\n",
      "[['Messi' 'Shooting' 95 94]\n",
      " ['Aguero' 'Shooting' 85 85]\n",
      " ['James' 'Shooting' 88 86]\n",
      " ['Lewandowski' 'Shooting' 92 85]\n",
      " ['Ronaldo' 'shooting' 95 92]\n",
      " ['Mbappe' 'shooting' 85 88]\n",
      " ['Neymar' 'shooting' 88 95]\n",
      " ['Suarez' 'shooting' 92 87]]\n"
     ]
    }
   ],
   "source": [
    "print(merged_stats.describe())\n",
    "print('\\n')\n",
    "print(merged_stats.info())\n",
    "print('\\n')\n",
    "print(merged_stats.values)"
   ]
  },
  {
   "cell_type": "markdown",
   "metadata": {},
   "source": [
    "## And there we have it!\n",
    "I successfully added a column called \"dribbling\" to my existing DataFrame"
   ]
  },
  {
   "cell_type": "markdown",
   "metadata": {},
   "source": [
    "## Merging DataFrames!"
   ]
  },
  {
   "cell_type": "code",
   "execution_count": 27,
   "metadata": {},
   "outputs": [
    {
     "name": "stdout",
     "output_type": "stream",
     "text": [
      "     State  Population\n",
      "0    Idaho     1717000\n",
      "1    Texas    28300000\n",
      "2  Florida    20980000\n",
      "3   Alaska      739795\n"
     ]
    }
   ],
   "source": [
    "import pandas as pd\n",
    "data = [['Idaho', 1717000], ['Texas', 28300000], ['Florida', 20980000],['Alaska',739795]]\n",
    "df1 = pd.DataFrame(data,columns=['State','Population'])\n",
    "print(df1)"
   ]
  },
  {
   "cell_type": "code",
   "execution_count": 29,
   "metadata": {},
   "outputs": [
    {
     "name": "stdout",
     "output_type": "stream",
     "text": [
      "      Name ANSI\n",
      "0    Idaho   ID\n",
      "1    Texas   TX\n",
      "2  Florida   FL\n",
      "3   Alaska   AK\n"
     ]
    }
   ],
   "source": [
    "data_part_two = [['Idaho', 'ID'], ['Texas', 'TX'], ['Florida', 'FL'],['Alaska','AK']]\n",
    "df2 = pd.DataFrame(data_part_two,columns=['Name','ANSI'])\n",
    "print(df2)"
   ]
  },
  {
   "cell_type": "markdown",
   "metadata": {},
   "source": [
    "### Now I want to merge both DataFrames..."
   ]
  },
  {
   "cell_type": "code",
   "execution_count": 32,
   "metadata": {},
   "outputs": [
    {
     "name": "stdout",
     "output_type": "stream",
     "text": [
      "     State  Population     Name ANSI\n",
      "0    Idaho     1717000    Idaho   ID\n",
      "1    Texas    28300000    Texas   TX\n",
      "2  Florida    20980000  Florida   FL\n",
      "3   Alaska      739795   Alaska   AK\n"
     ]
    }
   ],
   "source": [
    "merged_data = pd.merge(left=df1, right=df2, on=None, left_on='State', right_on='Name')\n",
    "print(merged_data)"
   ]
  },
  {
   "cell_type": "markdown",
   "metadata": {},
   "source": [
    "### Successfully merged DataFrames! ^^^"
   ]
  },
  {
   "cell_type": "markdown",
   "metadata": {},
   "source": [
    "## How to change the dtype of a column to int/float?\n",
    "```\n",
    "pd.to_numeric(dataframe.column)\n",
    "```\n",
    "if the column has any string data it will throw an error... In order to get rid of it, use errors='coerce' inside the function which will turn the bad values into NaN"
   ]
  },
  {
   "cell_type": "markdown",
   "metadata": {},
   "source": [
    "## Dropping duplicates/Dealing with missing data"
   ]
  },
  {
   "cell_type": "markdown",
   "metadata": {},
   "source": [
    "#### to drop all duplicates from a dataset:\n",
    "```\n",
    ".drop_duplicates()\n",
    "```\n",
    "#### to replace NaN values in a column with a certain value:\n",
    "```\n",
    "mean = dataframe.column.mean()\n",
    "dataframe[column] = dataframe.column.fillna(mean)\n",
    "```\n",
    "#### if I want to replace all NaN values in the dataset:\n",
    "```\n",
    "dataframe = dataframe.fillna(value=0)\n",
    "```"
   ]
  },
  {
   "cell_type": "markdown",
   "metadata": {},
   "source": [
    "## Checking your data? use assert\n",
    "\n",
    "i.e.\n",
    "```\n",
    "assert gapminder.year.dtypes == np.int64\n",
    "```\n",
    "here, I am checking that all values in the year column are of type int64"
   ]
  },
  {
   "cell_type": "code",
   "execution_count": null,
   "metadata": {},
   "outputs": [],
   "source": []
  }
 ],
 "metadata": {
  "kernelspec": {
   "display_name": "Python 3",
   "language": "python",
   "name": "python3"
  },
  "language_info": {
   "codemirror_mode": {
    "name": "ipython",
    "version": 3
   },
   "file_extension": ".py",
   "mimetype": "text/x-python",
   "name": "python",
   "nbconvert_exporter": "python",
   "pygments_lexer": "ipython3",
   "version": "3.6.6"
  }
 },
 "nbformat": 4,
 "nbformat_minor": 2
}
