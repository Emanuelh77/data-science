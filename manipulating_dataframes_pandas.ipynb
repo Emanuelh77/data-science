{
 "cells": [
  {
   "cell_type": "markdown",
   "metadata": {},
   "source": [
    "Manipulating DataFrames with Pandas\n",
    "======"
   ]
  },
  {
   "cell_type": "code",
   "execution_count": 2,
   "metadata": {},
   "outputs": [],
   "source": [
    "import pandas as pd\n",
    "\n",
    "df = pd.read_csv('volcano_data_2010.csv',index_col='Name')"
   ]
  },
  {
   "cell_type": "code",
   "execution_count": 3,
   "metadata": {},
   "outputs": [
    {
     "name": "stdout",
     "output_type": "stream",
     "text": [
      "             Year  Elevation        Country\n",
      "Name                                       \n",
      "Yellowstone  2016       2805  United States\n",
      "Etna         2017       3350          Italy\n",
      "Aso          2016       1592          Japan\n"
     ]
    }
   ],
   "source": [
    "cols = ['Year','Elevation','Country']\n",
    "rows = ['Yellowstone','Etna','Aso']\n",
    "three_volcanoes = df.loc[rows,cols]\n",
    "print(three_volcanoes)"
   ]
  },
  {
   "cell_type": "markdown",
   "metadata": {},
   "source": [
    "### In the previous piece of code, I created a DataFrame off another DataFrame!\n",
    "This is because I'm only interested in a certain part of the df DataFrame"
   ]
  },
  {
   "cell_type": "markdown",
   "metadata": {},
   "source": [
    "## Filtering with a Boolean Series"
   ]
  },
  {
   "cell_type": "code",
   "execution_count": 4,
   "metadata": {},
   "outputs": [
    {
     "name": "stdout",
     "output_type": "stream",
     "text": [
      "                        name mfr type  calories  protein  fat  sodium  fiber  \\\n",
      "0                  100% Bran   N    C        70        4    1     130   10.0   \n",
      "1          100% Natural Bran   Q    C       120        3    5      15    2.0   \n",
      "2                   All-Bran   K    C        70        4    1     260    9.0   \n",
      "3  All-Bran with Extra Fiber   K    C        50        4    0     140   14.0   \n",
      "4             Almond Delight   R    C       110        2    2     200    1.0   \n",
      "\n",
      "   carbo  sugars  potass  vitamins  shelf  weight  cups     rating  \n",
      "0    5.0       6     280        25      3     1.0  0.33  68.402973  \n",
      "1    8.0       8     135         0      3     1.0  1.00  33.983679  \n",
      "2    7.0       5     320        25      3     1.0  0.33  59.425505  \n",
      "3    8.0       0     330        25      3     1.0  0.50  93.704912  \n",
      "4   14.0       8      -1        25      3     1.0  0.75  34.384843  \n"
     ]
    }
   ],
   "source": [
    "cereal = pd.read_csv('cereal.csv')\n",
    "print(cereal.head())"
   ]
  },
  {
   "cell_type": "code",
   "execution_count": 8,
   "metadata": {},
   "outputs": [
    {
     "name": "stdout",
     "output_type": "stream",
     "text": [
      "                                      name mfr type  calories  protein  fat  \\\n",
      "1                        100% Natural Bran   Q    C       120        3    5   \n",
      "7                                  Basic 4   G    C       130        3    2   \n",
      "10                            Cap'n'Crunch   Q    C       120        1    2   \n",
      "12                   Cinnamon Toast Crunch   G    C       120        1    3   \n",
      "27  Fruit & Fibre Dates; Walnuts; and Oats   P    C       120        3    2   \n",
      "28                           Fruitful Bran   K    C       120        3    0   \n",
      "34                      Great Grains Pecan   P    C       120        3    3   \n",
      "35                        Honey Graham Ohs   Q    C       120        1    2   \n",
      "39                  Just Right Fruit & Nut   K    C       140        3    1   \n",
      "44        Muesli Raisins; Dates; & Almonds   R    C       150        4    3   \n",
      "45       Muesli Raisins; Peaches; & Pecans   R    C       150        4    3   \n",
      "46                    Mueslix Crispy Blend   K    C       160        3    2   \n",
      "48                        Nut&Honey Crunch   K    C       120        2    1   \n",
      "49               Nutri-Grain Almond-Raisin   K    C       140        3    2   \n",
      "51                    Oatmeal Raisin Crisp   G    C       130        3    2   \n",
      "52                   Post Nat. Raisin Bran   P    C       120        3    1   \n",
      "58                             Raisin Bran   K    C       120        3    1   \n",
      "70                       Total Raisin Bran   G    C       140        3    1   \n",
      "\n",
      "    sodium  fiber  carbo  sugars  potass  vitamins  shelf  weight  cups  \\\n",
      "1       15    2.0    8.0       8     135         0      3    1.00  1.00   \n",
      "7      210    2.0   18.0       8     100        25      3    1.33  0.75   \n",
      "10     220    0.0   12.0      12      35        25      2    1.00  0.75   \n",
      "12     210    0.0   13.0       9      45        25      2    1.00  0.75   \n",
      "27     160    5.0   12.0      10     200        25      3    1.25  0.67   \n",
      "28     240    5.0   14.0      12     190        25      3    1.33  0.67   \n",
      "34      75    3.0   13.0       4     100        25      3    1.00  0.33   \n",
      "35     220    1.0   12.0      11      45        25      2    1.00  1.00   \n",
      "39     170    2.0   20.0       9      95       100      3    1.30  0.75   \n",
      "44      95    3.0   16.0      11     170        25      3    1.00  1.00   \n",
      "45     150    3.0   16.0      11     170        25      3    1.00  1.00   \n",
      "46     150    3.0   17.0      13     160        25      3    1.50  0.67   \n",
      "48     190    0.0   15.0       9      40        25      2    1.00  0.67   \n",
      "49     220    3.0   21.0       7     130        25      3    1.33  0.67   \n",
      "51     170    1.5   13.5      10     120        25      3    1.25  0.50   \n",
      "52     200    6.0   11.0      14     260        25      3    1.33  0.67   \n",
      "58     210    5.0   14.0      12     240        25      2    1.33  0.75   \n",
      "70     190    4.0   15.0      14     230       100      3    1.50  1.00   \n",
      "\n",
      "    rating         class  \n",
      "1       34  high calorie  \n",
      "7       38  high calorie  \n",
      "10      19  high calorie  \n",
      "12      20  high calorie  \n",
      "27      41  high calorie  \n",
      "28      42  high calorie  \n",
      "34      46  high calorie  \n",
      "35      22  high calorie  \n",
      "39      37  high calorie  \n",
      "44      38  high calorie  \n",
      "45      35  high calorie  \n",
      "46      31  high calorie  \n",
      "48      30  high calorie  \n",
      "49      41  high calorie  \n",
      "51      31  high calorie  \n",
      "52      38  high calorie  \n",
      "58      40  high calorie  \n",
      "70      29  high calorie  \n"
     ]
    }
   ],
   "source": [
    "high_calorie = cereal['calories']>110\n",
    "\n",
    "high_calorie_df = cereal[high_calorie]\n",
    "print(high_calorie_df)"
   ]
  },
  {
   "cell_type": "markdown",
   "metadata": {},
   "source": [
    "## Im going to transform this dataset a little"
   ]
  },
  {
   "cell_type": "code",
   "execution_count": 7,
   "metadata": {},
   "outputs": [
    {
     "name": "stdout",
     "output_type": "stream",
     "text": [
      "0     69\n",
      "1     34\n",
      "2     60\n",
      "3     94\n",
      "4     35\n",
      "5     30\n",
      "6     34\n",
      "7     38\n",
      "8     50\n",
      "9     54\n",
      "10    19\n",
      "Name: rating, dtype: int64\n"
     ]
    }
   ],
   "source": [
    "import math\n",
    "cereal['rating'] = cereal['rating'].apply(lambda n: math.ceil(n))\n",
    "print(cereal.loc[:10,'rating'])"
   ]
  },
  {
   "cell_type": "markdown",
   "metadata": {},
   "source": [
    "**I just rounded up all the ratings for every single one of the cereals in the dataset!**"
   ]
  },
  {
   "cell_type": "markdown",
   "metadata": {},
   "source": [
    "### Now, I'm going to create another column based on the calories of each cereal"
   ]
  },
  {
   "cell_type": "code",
   "execution_count": 6,
   "metadata": {},
   "outputs": [
    {
     "name": "stdout",
     "output_type": "stream",
     "text": [
      "                        name mfr type  calories  protein  fat  sodium  fiber  \\\n",
      "0                  100% Bran   N    C        70        4    1     130   10.0   \n",
      "1          100% Natural Bran   Q    C       120        3    5      15    2.0   \n",
      "2                   All-Bran   K    C        70        4    1     260    9.0   \n",
      "3  All-Bran with Extra Fiber   K    C        50        4    0     140   14.0   \n",
      "4             Almond Delight   R    C       110        2    2     200    1.0   \n",
      "\n",
      "   carbo  sugars  potass  vitamins  shelf  weight  cups     rating  \\\n",
      "0    5.0       6     280        25      3     1.0  0.33  68.402973   \n",
      "1    8.0       8     135         0      3     1.0  1.00  33.983679   \n",
      "2    7.0       5     320        25      3     1.0  0.33  59.425505   \n",
      "3    8.0       0     330        25      3     1.0  0.50  93.704912   \n",
      "4   14.0       8      -1        25      3     1.0  0.75  34.384843   \n",
      "\n",
      "          class  \n",
      "0   low calorie  \n",
      "1  high calorie  \n",
      "2   low calorie  \n",
      "3   low calorie  \n",
      "4  high calorie  \n"
     ]
    }
   ],
   "source": [
    "cereal['class'] = cereal['calories'].apply(lambda n: 'high calorie' if n>85 else 'low calorie')\n",
    "print(cereal.head())"
   ]
  },
  {
   "cell_type": "markdown",
   "metadata": {},
   "source": [
    "#### Excellent! the 'class' column was successfully created"
   ]
  },
  {
   "cell_type": "markdown",
   "metadata": {},
   "source": [
    "## Hierarchical Indexing"
   ]
  },
  {
   "cell_type": "code",
   "execution_count": 13,
   "metadata": {},
   "outputs": [
    {
     "name": "stdout",
     "output_type": "stream",
     "text": [
      "                                 mfr type  calories  protein  fat  sodium  \\\n",
      "name                      sugars                                            \n",
      "100% Bran                 6        N    C        70        4    1     130   \n",
      "100% Natural Bran         8        Q    C       120        3    5      15   \n",
      "All-Bran                  5        K    C        70        4    1     260   \n",
      "All-Bran with Extra Fiber 0        K    C        50        4    0     140   \n",
      "Almond Delight            8        R    C       110        2    2     200   \n",
      "\n",
      "                                  fiber  carbo  potass  vitamins  shelf  \\\n",
      "name                      sugars                                          \n",
      "100% Bran                 6        10.0    5.0     280        25      3   \n",
      "100% Natural Bran         8         2.0    8.0     135         0      3   \n",
      "All-Bran                  5         9.0    7.0     320        25      3   \n",
      "All-Bran with Extra Fiber 0        14.0    8.0     330        25      3   \n",
      "Almond Delight            8         1.0   14.0      -1        25      3   \n",
      "\n",
      "                                  weight  cups  rating         class  \n",
      "name                      sugars                                      \n",
      "100% Bran                 6          1.0  0.33      69   low calorie  \n",
      "100% Natural Bran         8          1.0  1.00      34  high calorie  \n",
      "All-Bran                  5          1.0  0.33      60   low calorie  \n",
      "All-Bran with Extra Fiber 0          1.0  0.50      94   low calorie  \n",
      "Almond Delight            8          1.0  0.75      35  high calorie  \n"
     ]
    }
   ],
   "source": [
    "cereal = cereal.set_index(['name', 'sugars'])\n",
    "print(cereal.head())"
   ]
  },
  {
   "cell_type": "markdown",
   "metadata": {},
   "source": [
    "### Pretty cool stuff! The index for the cereal dataframe is now a list"
   ]
  },
  {
   "cell_type": "code",
   "execution_count": 14,
   "metadata": {},
   "outputs": [],
   "source": [
    "cereal = cereal.sort_index() #organizing the index, but it is already sorted"
   ]
  },
  {
   "cell_type": "markdown",
   "metadata": {},
   "source": [
    "### How to look up data with Multi-Index?\n",
    "```\n",
    "cereal.loc[(slice=None), <data>),:]\n",
    "```"
   ]
  },
  {
   "cell_type": "code",
   "execution_count": 15,
   "metadata": {},
   "outputs": [
    {
     "name": "stdout",
     "output_type": "stream",
     "text": [
      "                                   mfr type  calories  protein  fat  sodium  \\\n",
      "name                        sugars                                            \n",
      "100% Bran                   6        N    C        70        4    1     130   \n",
      "100% Natural Bran           8        Q    C       120        3    5      15   \n",
      "Almond Delight              8        R    C       110        2    2     200   \n",
      "Basic 4                     8        G    C       130        3    2     210   \n",
      "Bran Chex                   6        R    C        90        2    1     200   \n",
      "Clusters                    7        G    C       110        3    2     140   \n",
      "Cracklin' Oat Bran          7        K    C       110        3    3     140   \n",
      "Frosted Mini-Wheats         7        K    C       100        3    0       0   \n",
      "Just Right Crunchy  Nuggets 6        K    C       110        2    1     170   \n",
      "Life                        6        Q    C       100        4    2     150   \n",
      "Multi-Grain Cheerios        6        G    C       100        2    1     220   \n",
      "Nutri-Grain Almond-Raisin   7        K    C       140        3    2     220   \n",
      "Quaker Oat Squares          6        Q    C       100        4    1     135   \n",
      "Raisin Nut Bran             8        G    C       100        3    2     140   \n",
      "Raisin Squares              6        K    C        90        2    0       0   \n",
      "Wheaties Honey Gold         8        G    C       110        2    1     200   \n",
      "\n",
      "                                    fiber  carbo  potass  vitamins  shelf  \\\n",
      "name                        sugars                                          \n",
      "100% Bran                   6        10.0    5.0     280        25      3   \n",
      "100% Natural Bran           8         2.0    8.0     135         0      3   \n",
      "Almond Delight              8         1.0   14.0      -1        25      3   \n",
      "Basic 4                     8         2.0   18.0     100        25      3   \n",
      "Bran Chex                   6         4.0   15.0     125        25      1   \n",
      "Clusters                    7         2.0   13.0     105        25      3   \n",
      "Cracklin' Oat Bran          7         4.0   10.0     160        25      3   \n",
      "Frosted Mini-Wheats         7         3.0   14.0     100        25      2   \n",
      "Just Right Crunchy  Nuggets 6         1.0   17.0      60       100      3   \n",
      "Life                        6         2.0   12.0      95        25      2   \n",
      "Multi-Grain Cheerios        6         2.0   15.0      90        25      1   \n",
      "Nutri-Grain Almond-Raisin   7         3.0   21.0     130        25      3   \n",
      "Quaker Oat Squares          6         2.0   14.0     110        25      3   \n",
      "Raisin Nut Bran             8         2.5   10.5     140        25      3   \n",
      "Raisin Squares              6         2.0   15.0     110        25      3   \n",
      "Wheaties Honey Gold         8         1.0   16.0      60        25      1   \n",
      "\n",
      "                                    weight  cups  rating         class  \n",
      "name                        sugars                                      \n",
      "100% Bran                   6         1.00  0.33      69   low calorie  \n",
      "100% Natural Bran           8         1.00  1.00      34  high calorie  \n",
      "Almond Delight              8         1.00  0.75      35  high calorie  \n",
      "Basic 4                     8         1.33  0.75      38  high calorie  \n",
      "Bran Chex                   6         1.00  0.67      50  high calorie  \n",
      "Clusters                    7         1.00  0.50      41  high calorie  \n",
      "Cracklin' Oat Bran          7         1.00  0.50      41  high calorie  \n",
      "Frosted Mini-Wheats         7         1.00  0.80      59  high calorie  \n",
      "Just Right Crunchy  Nuggets 6         1.00  1.00      37  high calorie  \n",
      "Life                        6         1.00  0.67      46  high calorie  \n",
      "Multi-Grain Cheerios        6         1.00  1.00      41  high calorie  \n",
      "Nutri-Grain Almond-Raisin   7         1.33  0.67      41  high calorie  \n",
      "Quaker Oat Squares          6         1.00  0.50      50  high calorie  \n",
      "Raisin Nut Bran             8         1.00  0.50      40  high calorie  \n",
      "Raisin Squares              6         1.00  0.50      56  high calorie  \n",
      "Wheaties Honey Gold         8         1.00  0.75      37  high calorie  \n"
     ]
    }
   ],
   "source": [
    "sugar_6_and_up = cereal.loc[(slice(None), slice(6,8,1)), :] #slice(start,stop,step)\n",
    "print(sugar_6_and_up)"
   ]
  },
  {
   "cell_type": "markdown",
   "metadata": {},
   "source": [
    "## Pivoting DataFrames"
   ]
  },
  {
   "cell_type": "code",
   "execution_count": 24,
   "metadata": {},
   "outputs": [
    {
     "name": "stdout",
     "output_type": "stream",
     "text": [
      "     city  signups  visitors weekday\n",
      "0  Austin        7       139     Sun\n",
      "1  Dallas       12       237     Sat\n",
      "2  Austin        3       326     Sat\n",
      "3  Dallas        5       456     Sun\n"
     ]
    }
   ],
   "source": [
    "cities = ['Austin', 'Dallas', 'Austin', 'Dallas']\n",
    "signups = [7, 12, 3, 5]\n",
    "visitors = [139, 237, 326, 456]\n",
    "weekdays = ['Sun', 'Sat', 'Sat', 'Sun']\n",
    "list_labels = ['city', 'signups', 'visitors', 'weekday']\n",
    "list_cols = [cities, signups, visitors, weekdays]\n",
    "\n",
    "zipped = list(zip(list_labels, list_cols))\n",
    "data = dict(zipped)\n",
    "info = pd.DataFrame(data)\n",
    "print(info)"
   ]
  },
  {
   "cell_type": "code",
   "execution_count": 17,
   "metadata": {},
   "outputs": [
    {
     "name": "stdout",
     "output_type": "stream",
     "text": [
      "city     Austin  Dallas\n",
      "weekday                \n",
      "Sat         326     237\n",
      "Sun         139     456\n"
     ]
    }
   ],
   "source": [
    "visitors_pivot = info.pivot(index='weekday',columns='city',values='visitors')\n",
    "print(visitors_pivot)"
   ]
  },
  {
   "cell_type": "code",
   "execution_count": 30,
   "metadata": {},
   "outputs": [
    {
     "name": "stdout",
     "output_type": "stream",
     "text": [
      "                  city  weekday\n",
      "visitors signups               \n",
      "139      7           1        1\n",
      "237      12          1        1\n",
      "326      3           1        1\n",
      "456      5           1        1\n"
     ]
    }
   ],
   "source": [
    "print(info.groupby(['visitors','signups']).count())"
   ]
  },
  {
   "cell_type": "code",
   "execution_count": null,
   "metadata": {},
   "outputs": [],
   "source": []
  }
 ],
 "metadata": {
  "kernelspec": {
   "display_name": "Python 3",
   "language": "python",
   "name": "python3"
  }
 },
 "nbformat": 4,
 "nbformat_minor": 2
}
