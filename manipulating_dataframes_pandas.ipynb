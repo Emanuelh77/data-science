{
 "cells": [
  {
   "cell_type": "markdown",
   "metadata": {},
   "source": [
    "Manipulating DataFrames with Pandas\n",
    "======"
   ]
  },
  {
   "cell_type": "code",
   "execution_count": 3,
   "metadata": {},
   "outputs": [],
   "source": [
    "import pandas as pd\n",
    "\n",
    "df = pd.read_csv('volcano_data_2010.csv',index_col='Name')"
   ]
  },
  {
   "cell_type": "code",
   "execution_count": 5,
   "metadata": {},
   "outputs": [
    {
     "name": "stdout",
     "output_type": "stream",
     "text": [
      "             Year  Elevation        Country\n",
      "Name                                       \n",
      "Yellowstone  2016       2805  United States\n",
      "Etna         2017       3350          Italy\n",
      "Aso          2016       1592          Japan\n"
     ]
    }
   ],
   "source": [
    "cols = ['Year','Elevation','Country']\n",
    "rows = ['Yellowstone','Etna','Aso']\n",
    "three_volcanoes = df.loc[rows,cols]\n",
    "print(three_volcanoes)"
   ]
  },
  {
   "cell_type": "markdown",
   "metadata": {},
   "source": [
    "### In the previous piece of code, I created a DataFrame off another DataFrame!\n",
    "This is because I'm only interested in a certain part of the df DataFrame"
   ]
  },
  {
   "cell_type": "markdown",
   "metadata": {},
   "source": [
    "## Filtering with a Boolean Series"
   ]
  },
  {
   "cell_type": "code",
   "execution_count": 12,
   "metadata": {},
   "outputs": [
    {
     "name": "stdout",
     "output_type": "stream",
     "text": [
      "                        name mfr type  calories  protein  fat  sodium  fiber  \\\n",
      "0                  100% Bran   N    C        70        4    1     130   10.0   \n",
      "1          100% Natural Bran   Q    C       120        3    5      15    2.0   \n",
      "2                   All-Bran   K    C        70        4    1     260    9.0   \n",
      "3  All-Bran with Extra Fiber   K    C        50        4    0     140   14.0   \n",
      "4             Almond Delight   R    C       110        2    2     200    1.0   \n",
      "\n",
      "   carbo  sugars  potass  vitamins  shelf  weight  cups     rating  \n",
      "0    5.0       6     280        25      3     1.0  0.33  68.402973  \n",
      "1    8.0       8     135         0      3     1.0  1.00  33.983679  \n",
      "2    7.0       5     320        25      3     1.0  0.33  59.425505  \n",
      "3    8.0       0     330        25      3     1.0  0.50  93.704912  \n",
      "4   14.0       8      -1        25      3     1.0  0.75  34.384843  \n"
     ]
    }
   ],
   "source": [
    "cereal = pd.read_csv('cereal.csv')\n",
    "print(cereal.head())"
   ]
  },
  {
   "cell_type": "code",
   "execution_count": 13,
   "metadata": {},
   "outputs": [
    {
     "name": "stdout",
     "output_type": "stream",
     "text": [
      "                                      name mfr type  calories  protein  fat  \\\n",
      "1                        100% Natural Bran   Q    C       120        3    5   \n",
      "7                                  Basic 4   G    C       130        3    2   \n",
      "10                            Cap'n'Crunch   Q    C       120        1    2   \n",
      "12                   Cinnamon Toast Crunch   G    C       120        1    3   \n",
      "27  Fruit & Fibre Dates; Walnuts; and Oats   P    C       120        3    2   \n",
      "28                           Fruitful Bran   K    C       120        3    0   \n",
      "34                      Great Grains Pecan   P    C       120        3    3   \n",
      "35                        Honey Graham Ohs   Q    C       120        1    2   \n",
      "39                  Just Right Fruit & Nut   K    C       140        3    1   \n",
      "44        Muesli Raisins; Dates; & Almonds   R    C       150        4    3   \n",
      "45       Muesli Raisins; Peaches; & Pecans   R    C       150        4    3   \n",
      "46                    Mueslix Crispy Blend   K    C       160        3    2   \n",
      "48                        Nut&Honey Crunch   K    C       120        2    1   \n",
      "49               Nutri-Grain Almond-Raisin   K    C       140        3    2   \n",
      "51                    Oatmeal Raisin Crisp   G    C       130        3    2   \n",
      "52                   Post Nat. Raisin Bran   P    C       120        3    1   \n",
      "58                             Raisin Bran   K    C       120        3    1   \n",
      "70                       Total Raisin Bran   G    C       140        3    1   \n",
      "\n",
      "    sodium  fiber  carbo  sugars  potass  vitamins  shelf  weight  cups  \\\n",
      "1       15    2.0    8.0       8     135         0      3    1.00  1.00   \n",
      "7      210    2.0   18.0       8     100        25      3    1.33  0.75   \n",
      "10     220    0.0   12.0      12      35        25      2    1.00  0.75   \n",
      "12     210    0.0   13.0       9      45        25      2    1.00  0.75   \n",
      "27     160    5.0   12.0      10     200        25      3    1.25  0.67   \n",
      "28     240    5.0   14.0      12     190        25      3    1.33  0.67   \n",
      "34      75    3.0   13.0       4     100        25      3    1.00  0.33   \n",
      "35     220    1.0   12.0      11      45        25      2    1.00  1.00   \n",
      "39     170    2.0   20.0       9      95       100      3    1.30  0.75   \n",
      "44      95    3.0   16.0      11     170        25      3    1.00  1.00   \n",
      "45     150    3.0   16.0      11     170        25      3    1.00  1.00   \n",
      "46     150    3.0   17.0      13     160        25      3    1.50  0.67   \n",
      "48     190    0.0   15.0       9      40        25      2    1.00  0.67   \n",
      "49     220    3.0   21.0       7     130        25      3    1.33  0.67   \n",
      "51     170    1.5   13.5      10     120        25      3    1.25  0.50   \n",
      "52     200    6.0   11.0      14     260        25      3    1.33  0.67   \n",
      "58     210    5.0   14.0      12     240        25      2    1.33  0.75   \n",
      "70     190    4.0   15.0      14     230       100      3    1.50  1.00   \n",
      "\n",
      "       rating  \n",
      "1   33.983679  \n",
      "7   37.038562  \n",
      "10  18.042851  \n",
      "12  19.823573  \n",
      "27  40.917047  \n",
      "28  41.015492  \n",
      "34  45.811716  \n",
      "35  21.871292  \n",
      "39  36.471512  \n",
      "44  37.136863  \n",
      "45  34.139765  \n",
      "46  30.313351  \n",
      "48  29.924285  \n",
      "49  40.692320  \n",
      "51  30.450843  \n",
      "52  37.840594  \n",
      "58  39.259197  \n",
      "70  28.592785  \n"
     ]
    }
   ],
   "source": [
    "high_calorie = cereal['calories']>110\n",
    "\n",
    "high_calorie_df = df_two[high_calorie]\n",
    "print(high_calorie_df)"
   ]
  },
  {
   "cell_type": "markdown",
   "metadata": {},
   "source": [
    "## Im going to transform this dataset a little"
   ]
  },
  {
   "cell_type": "code",
   "execution_count": 17,
   "metadata": {},
   "outputs": [
    {
     "name": "stdout",
     "output_type": "stream",
     "text": [
      "0     69\n",
      "1     34\n",
      "2     60\n",
      "3     94\n",
      "4     35\n",
      "5     30\n",
      "6     34\n",
      "7     38\n",
      "8     50\n",
      "9     54\n",
      "10    19\n",
      "Name: rating, dtype: int64\n"
     ]
    }
   ],
   "source": [
    "import math\n",
    "cereal['rating'] = cereal['rating'].apply(lambda n: math.ceil(n))\n",
    "print(cereal.loc[:10,'rating'])"
   ]
  },
  {
   "cell_type": "markdown",
   "metadata": {},
   "source": [
    "**I just rounded up all the ratings for every single one of the cereals in the dataset!**"
   ]
  },
  {
   "cell_type": "markdown",
   "metadata": {},
   "source": [
    "### Now, I'm going to create another column based on the calories of each cereal"
   ]
  },
  {
   "cell_type": "code",
   "execution_count": null,
   "metadata": {},
   "outputs": [],
   "source": []
  }
 ],
 "metadata": {
  "kernelspec": {
   "display_name": "Python 3",
   "language": "python",
   "name": "python3"
  },
  "language_info": {
   "codemirror_mode": {
    "name": "ipython",
    "version": 3
   },
   "file_extension": ".py",
   "mimetype": "text/x-python",
   "name": "python",
   "nbconvert_exporter": "python",
   "pygments_lexer": "ipython3",
   "version": "3.6.6"
  }
 },
 "nbformat": 4,
 "nbformat_minor": 2
}
